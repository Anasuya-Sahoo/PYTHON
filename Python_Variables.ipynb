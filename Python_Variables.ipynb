{
  "nbformat": 4,
  "nbformat_minor": 0,
  "metadata": {
    "colab": {
      "name": "Variables.ipynb",
      "provenance": [],
      "authorship_tag": "ABX9TyMqUBzAu9BOHoujE0e6Wgvk",
      "include_colab_link": true
    },
    "kernelspec": {
      "name": "python3",
      "display_name": "Python 3"
    }
  },
  "cells": [
    {
      "cell_type": "markdown",
      "metadata": {
        "id": "view-in-github",
        "colab_type": "text"
      },
      "source": [
        "<a href=\"https://colab.research.google.com/github/Anasuya-Sahoo/PYTHON/blob/main/Python_Variables.ipynb\" target=\"_parent\"><img src=\"https://colab.research.google.com/assets/colab-badge.svg\" alt=\"Open In Colab\"/></a>"
      ]
    },
    {
      "cell_type": "markdown",
      "metadata": {
        "id": "W4J9R1stPE-Y"
      },
      "source": [
        "Python Variables"
      ]
    },
    {
      "cell_type": "code",
      "metadata": {
        "colab": {
          "base_uri": "https://localhost:8080/"
        },
        "id": "BWvNukgGPVFx",
        "outputId": "b48857df-a4f0-4116-ea58-f55d4c2d7593"
      },
      "source": [
        "a=10\r\n",
        "print(a)"
      ],
      "execution_count": 1,
      "outputs": [
        {
          "output_type": "stream",
          "text": [
            "10\n"
          ],
          "name": "stdout"
        }
      ]
    },
    {
      "cell_type": "code",
      "metadata": {
        "colab": {
          "base_uri": "https://localhost:8080/"
        },
        "id": "sunhITX7P8yu",
        "outputId": "7b846738-7aea-4723-a406-76b169816639"
      },
      "source": [
        "type(a)"
      ],
      "execution_count": 2,
      "outputs": [
        {
          "output_type": "execute_result",
          "data": {
            "text/plain": [
              "int"
            ]
          },
          "metadata": {
            "tags": []
          },
          "execution_count": 2
        }
      ]
    },
    {
      "cell_type": "code",
      "metadata": {
        "colab": {
          "base_uri": "https://localhost:8080/"
        },
        "id": "k5Fd9UnmQYq7",
        "outputId": "22700555-b296-45d1-fb30-bd8ed8d1d3d0"
      },
      "source": [
        "#Object Identity\r\n",
        "#In Python, every created object identifies uniquely in Python.\r\n",
        "#The built-in id() function, is used to identify the object identifier.\r\n",
        "a=20\r\n",
        "b=a\r\n",
        "print(id(a))\r\n",
        "print(id(b))\r\n",
        "a=500\r\n",
        "print(id(a))"
      ],
      "execution_count": 3,
      "outputs": [
        {
          "output_type": "stream",
          "text": [
            "10915104\n",
            "10915104\n",
            "140274328364880\n"
          ],
          "name": "stdout"
        }
      ]
    },
    {
      "cell_type": "code",
      "metadata": {
        "colab": {
          "base_uri": "https://localhost:8080/"
        },
        "id": "fJAeg3bQRDLL",
        "outputId": "e7a34fcd-6b59-4712-8fe1-727a5f87fe2c"
      },
      "source": [
        "name = \"Devansh\"  \r\n",
        "age = 20  \r\n",
        "marks = 80.50  \r\n",
        "  \r\n",
        "print(name)  \r\n",
        "print(age)  \r\n",
        "print(marks)  "
      ],
      "execution_count": 4,
      "outputs": [
        {
          "output_type": "stream",
          "text": [
            "Devansh\n",
            "20\n",
            "80.5\n"
          ],
          "name": "stdout"
        }
      ]
    },
    {
      "cell_type": "code",
      "metadata": {
        "colab": {
          "base_uri": "https://localhost:8080/"
        },
        "id": "-IdnX9PKROUq",
        "outputId": "5c0224b2-ade8-4cfd-a0e1-2161e580d198"
      },
      "source": [
        "#Assigning single value to multiple variables\r\n",
        "x=y=z=50    \r\n",
        "print(x)    \r\n",
        "print(y)    \r\n",
        "print(z)    "
      ],
      "execution_count": 5,
      "outputs": [
        {
          "output_type": "stream",
          "text": [
            "50\n",
            "50\n",
            "50\n"
          ],
          "name": "stdout"
        }
      ]
    },
    {
      "cell_type": "code",
      "metadata": {
        "colab": {
          "base_uri": "https://localhost:8080/"
        },
        "id": "0KKJUwDpRbsZ",
        "outputId": "a486003d-822f-45d8-aaf8-5365b0e8b8be"
      },
      "source": [
        "#Assigning multiple values to multiple variables\r\n",
        "x,y,z=10,5,15\r\n",
        "print(x)    \r\n",
        "print(y)    \r\n",
        "print(z)   "
      ],
      "execution_count": 6,
      "outputs": [
        {
          "output_type": "stream",
          "text": [
            "10\n",
            "5\n",
            "15\n"
          ],
          "name": "stdout"
        }
      ]
    },
    {
      "cell_type": "markdown",
      "metadata": {
        "id": "IjxK17gxRxDZ"
      },
      "source": [
        "Python Variable Types"
      ]
    },
    {
      "cell_type": "code",
      "metadata": {
        "colab": {
          "base_uri": "https://localhost:8080/"
        },
        "id": "U110E8RoRpWA",
        "outputId": "c0defa45-ae16-4ef4-8d78-d60070721264"
      },
      "source": [
        "#Local Variable\r\n",
        "#function declaration\r\n",
        "def add():\r\n",
        "  #Declaration of local variables, which are within the scope of that block only.\r\n",
        "  a=10\r\n",
        "  b=20\r\n",
        "  c=a+b\r\n",
        "  print(c)\r\n",
        "\r\n",
        "#Calling the function\r\n",
        "add()\r\n"
      ],
      "execution_count": 7,
      "outputs": [
        {
          "output_type": "stream",
          "text": [
            "30\n"
          ],
          "name": "stdout"
        }
      ]
    },
    {
      "cell_type": "code",
      "metadata": {
        "colab": {
          "base_uri": "https://localhost:8080/"
        },
        "id": "Hp24ds_zSi9m",
        "outputId": "ca228f56-e943-450c-f6a8-7ebe275f547b"
      },
      "source": [
        "#Global Variables: can be used throughout the program, and its scope is in the entire program.\r\n",
        "\r\n",
        "x=\"Hello\"\r\n",
        "\r\n",
        "def disp():\r\n",
        "  #Accessing the global variable inside the block\r\n",
        "  global x\r\n",
        "  print(x)\r\n",
        "  #Modifying the global variable value\r\n",
        "  x=\"Good Morning\"\r\n",
        "  print(x)\r\n",
        "\r\n",
        "#Calling Function\r\n",
        "disp()\r\n",
        "\r\n",
        "#Accessing the global variable outside the block\r\n",
        "print(x)"
      ],
      "execution_count": 10,
      "outputs": [
        {
          "output_type": "stream",
          "text": [
            "Hello\n",
            "Good Morning\n",
            "Good Morning\n"
          ],
          "name": "stdout"
        }
      ]
    },
    {
      "cell_type": "code",
      "metadata": {
        "colab": {
          "base_uri": "https://localhost:8080/",
          "height": 212
        },
        "id": "gxJcBKRqUAcc",
        "outputId": "401cc964-5121-4148-91f8-7e793a3a239c"
      },
      "source": [
        "#Delete a variable\r\n",
        "#We can delete the variable using the del keyword. The syntax is given below.\r\n",
        "a=10\r\n",
        "print(a)\r\n",
        "\r\n",
        "del a\r\n",
        "print(a)"
      ],
      "execution_count": 11,
      "outputs": [
        {
          "output_type": "stream",
          "text": [
            "10\n"
          ],
          "name": "stdout"
        },
        {
          "output_type": "error",
          "ename": "NameError",
          "evalue": "ignored",
          "traceback": [
            "\u001b[0;31m---------------------------------------------------------------------------\u001b[0m",
            "\u001b[0;31mNameError\u001b[0m                                 Traceback (most recent call last)",
            "\u001b[0;32m<ipython-input-11-8222eb72a3df>\u001b[0m in \u001b[0;36m<module>\u001b[0;34m()\u001b[0m\n\u001b[1;32m      5\u001b[0m \u001b[0;34m\u001b[0m\u001b[0m\n\u001b[1;32m      6\u001b[0m \u001b[0;32mdel\u001b[0m \u001b[0ma\u001b[0m\u001b[0;34m\u001b[0m\u001b[0;34m\u001b[0m\u001b[0m\n\u001b[0;32m----> 7\u001b[0;31m \u001b[0mprint\u001b[0m\u001b[0;34m(\u001b[0m\u001b[0ma\u001b[0m\u001b[0;34m)\u001b[0m\u001b[0;34m\u001b[0m\u001b[0;34m\u001b[0m\u001b[0m\n\u001b[0m",
            "\u001b[0;31mNameError\u001b[0m: name 'a' is not defined"
          ]
        }
      ]
    },
    {
      "cell_type": "code",
      "metadata": {
        "colab": {
          "base_uri": "https://localhost:8080/"
        },
        "id": "AZYN2HG7WLVM",
        "outputId": "616e49e3-27b5-4ea3-a0b6-872da54e98f0"
      },
      "source": [
        "#Printing Single Variable\r\n",
        "x=20\r\n",
        "print(x)\r\n",
        "\r\n",
        "#Printing Multiple Variable\r\n",
        "x,y,z=51,36,72\r\n",
        "print(x,y,z)"
      ],
      "execution_count": 12,
      "outputs": [
        {
          "output_type": "stream",
          "text": [
            "20\n",
            "51 36 72\n"
          ],
          "name": "stdout"
        }
      ]
    }
  ]
}